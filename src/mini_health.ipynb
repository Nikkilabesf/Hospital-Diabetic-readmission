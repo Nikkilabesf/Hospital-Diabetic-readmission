{
 "cells": [
  {
   "cell_type": "code",
   "execution_count": 41,
   "id": "19878813",
   "metadata": {},
   "outputs": [
    {
     "name": "stdout",
     "output_type": "stream",
     "text": [
      " File loaded successfully!\n",
      "(101766, 50)\n",
      "Epoch 1/10\n",
      "\u001b[1m2545/2545\u001b[0m \u001b[32m━━━━━━━━━━━━━━━━━━━━\u001b[0m\u001b[37m\u001b[0m \u001b[1m5s\u001b[0m 2ms/step - accuracy: 0.9095 - loss: 0.2618 - val_accuracy: 0.9133 - val_loss: 0.2430\n",
      "Epoch 2/10\n",
      "\u001b[1m2545/2545\u001b[0m \u001b[32m━━━━━━━━━━━━━━━━━━━━\u001b[0m\u001b[37m\u001b[0m \u001b[1m4s\u001b[0m 1ms/step - accuracy: 0.9143 - loss: 0.2453 - val_accuracy: 0.9148 - val_loss: 0.2396\n",
      "Epoch 3/10\n",
      "\u001b[1m2545/2545\u001b[0m \u001b[32m━━━━━━━━━━━━━━━━━━━━\u001b[0m\u001b[37m\u001b[0m \u001b[1m4s\u001b[0m 2ms/step - accuracy: 0.9142 - loss: 0.2432 - val_accuracy: 0.9142 - val_loss: 0.2381\n",
      "Epoch 4/10\n",
      "\u001b[1m2545/2545\u001b[0m \u001b[32m━━━━━━━━━━━━━━━━━━━━\u001b[0m\u001b[37m\u001b[0m \u001b[1m4s\u001b[0m 1ms/step - accuracy: 0.9150 - loss: 0.2422 - val_accuracy: 0.9135 - val_loss: 0.2413\n",
      "Epoch 5/10\n",
      "\u001b[1m2545/2545\u001b[0m \u001b[32m━━━━━━━━━━━━━━━━━━━━\u001b[0m\u001b[37m\u001b[0m \u001b[1m4s\u001b[0m 2ms/step - accuracy: 0.9150 - loss: 0.2414 - val_accuracy: 0.9154 - val_loss: 0.2383\n",
      "Epoch 6/10\n",
      "\u001b[1m2545/2545\u001b[0m \u001b[32m━━━━━━━━━━━━━━━━━━━━\u001b[0m\u001b[37m\u001b[0m \u001b[1m4s\u001b[0m 1ms/step - accuracy: 0.9152 - loss: 0.2409 - val_accuracy: 0.9137 - val_loss: 0.2456\n",
      "Epoch 7/10\n",
      "\u001b[1m2545/2545\u001b[0m \u001b[32m━━━━━━━━━━━━━━━━━━━━\u001b[0m\u001b[37m\u001b[0m \u001b[1m4s\u001b[0m 1ms/step - accuracy: 0.9150 - loss: 0.2408 - val_accuracy: 0.9149 - val_loss: 0.2386\n",
      "Epoch 8/10\n",
      "\u001b[1m2545/2545\u001b[0m \u001b[32m━━━━━━━━━━━━━━━━━━━━\u001b[0m\u001b[37m\u001b[0m \u001b[1m4s\u001b[0m 1ms/step - accuracy: 0.9159 - loss: 0.2401 - val_accuracy: 0.9139 - val_loss: 0.2391\n",
      "Epoch 9/10\n",
      "\u001b[1m2545/2545\u001b[0m \u001b[32m━━━━━━━━━━━━━━━━━━━━\u001b[0m\u001b[37m\u001b[0m \u001b[1m4s\u001b[0m 1ms/step - accuracy: 0.9158 - loss: 0.2401 - val_accuracy: 0.9157 - val_loss: 0.2391\n",
      "Epoch 10/10\n",
      "\u001b[1m2545/2545\u001b[0m \u001b[32m━━━━━━━━━━━━━━━━━━━━\u001b[0m\u001b[37m\u001b[0m \u001b[1m4s\u001b[0m 1ms/step - accuracy: 0.9158 - loss: 0.2394 - val_accuracy: 0.9147 - val_loss: 0.2373\n"
     ]
    },
    {
     "name": "stderr",
     "output_type": "stream",
     "text": [
      "WARNING:absl:You are saving your model as an HDF5 file via `model.save()` or `keras.saving.save_model(model)`. This file format is considered legacy. We recommend using instead the native Keras format, e.g. `model.save('my_model.keras')` or `keras.saving.save_model(model, 'my_model.keras')`. \n"
     ]
    },
    {
     "name": "stdout",
     "output_type": "stream",
     "text": [
      " Saved model: /workspaces/Hospital-Diabetic-readmission/src/tf_model.h5\n",
      " Saved preprocessor: /workspaces/Hospital-Diabetic-readmission/src/tf_preprocessor.joblib\n"
     ]
    },
    {
     "name": "stderr",
     "output_type": "stream",
     "text": [
      "/tmp/ipykernel_70703/1747457122.py:49: DtypeWarning: Columns (10) have mixed types. Specify dtype option on import or set low_memory=False.\n",
      "  df = pd.read_csv(path, na_values=[\"?\", \"NA\", \"NaN\"])\n"
     ]
    }
   ],
   "source": [
    "from pathlib import Path\n",
    "import pandas as pd\n",
    "from sklearn.model_selection import train_test_split\n",
    "from sklearn.preprocessing import StandardScaler, OneHotEncoder\n",
    "from sklearn.compose import ColumnTransformer\n",
    "from sklearn.pipeline import Pipeline\n",
    "from joblib import dump\n",
    "from tensorflow import keras\n",
    "from tensorflow.keras import layers\n",
    "from sklearn.model_selection import train_test_split\n",
    "from sklearn.preprocessing import StandardScaler\n",
    "from tensorflow.keras.models import Sequential\n",
    "from tensorflow.keras.layers import Dense, Dropout\n",
    "\n",
    "\n",
    "y = (df[\"readmitted\"] == \"<30\").astype(int)  \n",
    "\n",
    "\n",
    "feat_cols = [\n",
    "    \"time_in_hospital\", \"num_medications\",\n",
    "    \"number_inpatient\", \"number_emergency\",\n",
    "    \"A1Cresult\", \"insulin\", \"change\", \"diabetesMed\"\n",
    "]\n",
    "\n",
    "X = df[feat_cols].copy()\n",
    "\n",
    "\n",
    "cat = [\"A1Cresult\", \"insulin\", \"change\", \"diabetesMed\"]\n",
    "X = pd.get_dummies(X, columns=cat, drop_first=True)\n",
    "\n",
    "\n",
    "\n",
    "\n",
    "df = pd.read_csv(\"../data/diabetic_data.csv\")  \n",
    "print(\" File loaded successfully!\")\n",
    "print(df.shape)\n",
    "df.head()\n",
    "\n",
    "\n",
    "\n",
    "CSV_PATH = Path(\"../data/diabetic_data.csv\")  \n",
    "MODEL_PATH = Path(\"tf_model.h5\")\n",
    "PREPROC_PATH = Path(\"tf_preprocessor.joblib\")\n",
    "\n",
    "\n",
    "CAT_COLS = [\"race\", \"gender\", \"age\", \"A1Cresult\", \"insulin\", \"change\", \"diabetesMed\"]\n",
    "NUM_COLS = [\"time_in_hospital\", \"num_lab_procedures\", \"num_procedures\", \"num_medications\", \"number_outpatient\", \"number_emergency\", \"number_inpatient\"]\n",
    "def load_data(path: Path) -> pd.DataFrame:\n",
    "    df = pd.read_csv(path, na_values=[\"?\", \"NA\", \"NaN\"])\n",
    "    df = df[df[\"readmitted\"].isin([\"<30\", \">30\", \"NO\"])].copy()\n",
    "    df[\"target\"] = (df[\"readmitted\"] != \"NO\").astype(int)\n",
    "    return df[CAT_COLS + NUM_COLS + [\"target\"]]\n",
    "\n",
    "def build_preprocessor() -> ColumnTransformer:\n",
    "    return ColumnTransformer(\n",
    "        transformers=[\n",
    "          (\"cat\", OneHotEncoder(handle_unknown=\"ignore\"), CAT_COLS),\n",
    "            (\"num\", Pipeline([(\"scale\", StandardScaler())]), NUM_COLS),  \n",
    "        ]\n",
    "    )\n",
    "def build_model(input_dim: int) -> keras.Model:\n",
    "    model = keras.Sequential([\n",
    "        layers.Input(shape=(input_dim,)),\n",
    "        layers.Dense(64, activation=\"relu\"),\n",
    "        layers.Dense(32, activation=\"relu\"),\n",
    "        layers.Dense(16, activation=\"relu\"),\n",
    "        layers.Dense(1, activation=\"sigmoid\")\n",
    "    ])\n",
    "\n",
    "    \n",
    "    \n",
    "    model.compile(optimizer='adam', loss='binary_crossentropy', metrics=['accuracy'])\n",
    "\n",
    "    \n",
    "    \n",
    "    return model\n",
    "\n",
    "def main():\n",
    "    df = load_data(CSV_PATH)\n",
    "    X, y = df.drop(columns=[\"target\"]), df[\"target\"]\n",
    "\n",
    "    pre =build_preprocessor()\n",
    "    Xp = pre.fit_transform(X)\n",
    "    dump(pre, PREPROC_PATH)\n",
    "\n",
    "scaler = StandardScaler()\n",
    "Xp = scaler.fit_transform(X)\n",
    "\n",
    "Xtr, Xte, ytr, yte = train_test_split(Xp, y, test_size=0.2, random_state=42, stratify=y)\n",
    "\n",
    "\n",
    "model = build_model(Xtr.shape[1])\n",
    "\n",
    "\n",
    "model.fit(Xtr, ytr, validation_data=(Xte, yte), epochs=10, batch_size=32, verbose=1)\n",
    "\n",
    "\n",
    "model.save(MODEL_PATH)\n",
    "\n",
    "print(f\" Saved model: {MODEL_PATH.resolve()}\")\n",
    "print(f\" Saved preprocessor: {PREPROC_PATH.resolve()}\")\n",
    "\n",
    "if __name__ == \"__main__\":\n",
    "    main()\n",
    "\n",
    "\n",
    "\n",
    "\n",
    "\n",
    "\n"
   ]
  },
  {
   "cell_type": "code",
   "execution_count": 42,
   "id": "15627d6e",
   "metadata": {},
   "outputs": [
    {
     "name": "stdout",
     "output_type": "stream",
     "text": [
      "/workspaces/Hospital-Diabetic-readmission/src\n",
      "total 108K\n",
      "drwxrwxrwx+ 2 codespace codespace 4.0K Oct 14 04:14 .\n",
      "drwxrwxrwx+ 5 codespace root      4.0K Oct 14 05:48 ..\n",
      "-rw-rw-rw-  1 codespace codespace 8.6K Oct 14 06:27 mini_health.ipynb\n",
      "-rw-rw-rw-  1 codespace codespace  77K Oct 14 06:19 tf_model.h5\n",
      "-rw-rw-rw-  1 codespace codespace 4.6K Oct 14 06:19 tf_preprocessor.joblib\n"
     ]
    }
   ],
   "source": [
    "!pwd\n",
    "!ls -lah\n"
   ]
  },
  {
   "cell_type": "code",
   "execution_count": null,
   "id": "909663c8",
   "metadata": {},
   "outputs": [],
   "source": []
  }
 ],
 "metadata": {
  "kernelspec": {
   "display_name": "Python 3 (ipykernel)",
   "language": "python",
   "name": "python3"
  },
  "language_info": {
   "codemirror_mode": {
    "name": "ipython",
    "version": 3
   },
   "file_extension": ".py",
   "mimetype": "text/x-python",
   "name": "python",
   "nbconvert_exporter": "python",
   "pygments_lexer": "ipython3",
   "version": "3.12.1"
  }
 },
 "nbformat": 4,
 "nbformat_minor": 5
}
